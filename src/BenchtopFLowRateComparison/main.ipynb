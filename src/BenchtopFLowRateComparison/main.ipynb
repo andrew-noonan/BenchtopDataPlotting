{
 "cells": [
  {
   "cell_type": "code",
   "execution_count": null,
   "metadata": {},
   "outputs": [],
   "source": [
    "# Import libraries\n",
    "import pandas as pd\n",
    "import matplotlib.pyplot as plt\n",
    ""
   ]
  },
  {
   "cell_type": "code",
   "execution_count": null,
   "metadata": {},
   "outputs": [],
   "source": [
    "# Plot configs\n",
    "plt.rcParams['font.family'] = 'Times New Roman'\n",
    "plt.rcParams['font.size'] = 14\n",
    ""
   ]
  },
  {
   "cell_type": "code",
   "execution_count": null,
   "metadata": {},
   "outputs": [],
   "source": [
    "# Helper functions\n",
    "# Read the CSV file\n",
    "def read_data(file_path):\n",
    "    data = pd.read_csv(file_path)\n",
    "    return data\n",
    "\n",
    "# Convert epoch time to seconds and normalize\n",
    "def normalize_time(data):\n",
    "     # Add '20' to the beginning of the 'Time' string to make the year four digits\n",
    "    data['Time'] = '20' + data['Time'].astype(str)\n",
    "    # Now convert to datetime\n",
    "    data['Time'] = pd.to_datetime(data['Time'], format='%Y%m%d%H%M%S.%f')\n",
    "    # Normalizing time to start from zero\n",
    "    data['Time'] = (data['Time'] - data['Time'].min()).dt.total_seconds()/60\n",
    "    return data\n",
    "\n",
    "# Function to identify the time window for each row\n",
    "def get_time_window(time, windows_list):\n",
    "    for start, end in windows_list:\n",
    "        if start <= time < end:\n",
    "            return f\"{start}-{end}\"\n",
    "    return \"Other\"\n",
    ""
   ]
  },
  {
   "cell_type": "code",
   "execution_count": null,
   "metadata": {},
   "outputs": [],
   "source": [
    "# Import both data sets\n",
    "file_path_w_air = r'C:\\Users\\anoon\\OneDrive - Vanderbilt\\Masters Research\\Data\\Clean Oil\\Flowmeter Calibration 11_23 w Shower Head\\Aerated 2 to 3 GPM.txt'\n",
    "file_path_wo_air= r'C:\\Users\\anoon\\OneDrive - Vanderbilt\\Masters Research\\Data\\Clean Oil\\Flowmeter Calibration 11_23 w Shower Head\\No Aerator 2 to 3 GPM.txt'\n",
    "\n",
    "aerated_data = read_data(file_path_w_air)\n",
    "aerated_data = normalize_time(aerated_data)\n",
    "\n",
    "normal_data = read_data(file_path_wo_air)\n",
    "normal_data = normalize_time(normal_data)\n",
    ""
   ]
  },
  {
   "cell_type": "code",
   "execution_count": null,
   "metadata": {},
   "outputs": [],
   "source": [
    "# Plotting the first dataset\n",
    "plt.figure(figsize=(10, 6))\n",
    "plt.plot(aerated_data['Time'], aerated_data['Flow Rate'], marker='o', linestyle='none', markersize=5, label='Aerated Flow')\n",
    "\n",
    "# Plotting the second dataset\n",
    "plt.plot(normal_data['Time'], normal_data['Flow Rate'], marker='^', linestyle='none', markersize=5, label='No aeration')\n",
    "# Adding title and labels\n",
    "plt.title('Flow Rate vs Time')\n",
    "plt.xlabel('Time (min)')\n",
    "plt.ylabel('Flow Rate (gpm)')\n",
    "# Adding a grid\n",
    "plt.grid(True)\n",
    "# Adding a legend\n",
    "plt.legend()\n",
    ""
   ]
  },
  {
   "cell_type": "code",
   "execution_count": null,
   "metadata": {},
   "outputs": [],
   "source": [
    "# Define time windows for each dataset, calculate avg flow rates + std deviation\n",
    "aerated_windows = [(0,6), (7,16), (20,27)]\n",
    "normal_windows = [(0, 10), (11, 20), (22, 30)]\n",
    "\n",
    "aerated_data['Time_Window'] = aerated_data['Time'].apply(lambda x: get_time_window(x, aerated_windows))\n",
    "normal_data['Time_Window'] = normal_data['Time'].apply(lambda x: get_time_window(x, normal_windows))\n",
    "\n",
    "aerated_stats = aerated_data.groupby('Time_Window')['Flow Rate'].agg(['mean', 'std']).reset_index()\n",
    "normal_stats = normal_data.groupby('Time_Window')['Flow Rate'].agg(['mean', 'std']).reset_index()\n",
    ""
   ]
  }
 ],
 "nbformat": 4,
 "nbformat_minor": 2,
 "metadata": {
  "language_info": {
   "codemirror_mode": {
    "name": "ipython",
    "version": 3
   },
   "file_extension": ".py",
   "mimetype": "text/x-python",
   "name": "python",
   "nbconvert_exporter": "python",
   "pygments_lexer": "ipython3",
   "version": 3
  }
 }
}